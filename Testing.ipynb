{
  "nbformat": 4,
  "nbformat_minor": 0,
  "metadata": {
    "colab": {
      "name": "Testing.ipynb",
      "provenance": [],
      "authorship_tag": "ABX9TyMqxUN7LOtSfdjrY1tvHmu/",
      "include_colab_link": true
    },
    "kernelspec": {
      "name": "python3",
      "display_name": "Python 3"
    },
    "language_info": {
      "name": "python"
    }
  },
  "cells": [
    {
      "cell_type": "markdown",
      "metadata": {
        "id": "view-in-github",
        "colab_type": "text"
      },
      "source": [
        "<a href=\"https://colab.research.google.com/github/Akash743/Solar_Power_Forecasting./blob/main/Testing.ipynb\" target=\"_parent\"><img src=\"https://colab.research.google.com/assets/colab-badge.svg\" alt=\"Open In Colab\"/></a>"
      ]
    },
    {
      "cell_type": "code",
      "execution_count": 1,
      "metadata": {
        "id": "iHhEDCwuBUpU"
      },
      "outputs": [],
      "source": [
        "import matplotlib.pyplot as plt\n",
        "import numpy as np\n",
        "import pandas as pd\n",
        "import scipy as sp\n",
        "import seaborn as sns\n",
        "import statsmodels.api as sm\n",
        "import statsmodels.tsa.api as smt\n",
        "import warnings\n",
        "from google.colab import drive\n",
        "from sklearn.linear_model import LinearRegression\n",
        "from sklearn.model_selection import train_test_split\n",
        "from statsmodels.stats.outliers_influence import variance_inflation_factor"
      ]
    },
    {
      "cell_type": "code",
      "source": [
        "warnings.filterwarnings(\"ignore\")\n",
        "%matplotlib inline"
      ],
      "metadata": {
        "id": "aqvVA7kfQk0D"
      },
      "execution_count": null,
      "outputs": []
    },
    {
      "cell_type": "code",
      "source": [
        "df = pd.read_excel('Testing_data.xlsx',sheet_name='Transformed')"
      ],
      "metadata": {
        "id": "Y_-EJtAyQmKG"
      },
      "execution_count": 5,
      "outputs": []
    },
    {
      "cell_type": "code",
      "source": [
        "df.head(5)"
      ],
      "metadata": {
        "colab": {
          "base_uri": "https://localhost:8080/",
          "height": 444
        },
        "id": "cLmusXUuQmM3",
        "outputId": "90387426-f7a2-4e8d-ef4f-20a6c1bfbd5f"
      },
      "execution_count": 7,
      "outputs": [
        {
          "output_type": "execute_result",
          "data": {
            "text/plain": [
              "           Week       dv      BRAND  GRI_extfactor  PERMKT_E2_type4_net  \\\n",
              "0  WEEK 01 2020  3522926  31.489651      20.402159         22021.280176   \n",
              "1  WEEK 02 2020  5157654  45.059849      66.846051         51384.380981   \n",
              "2  WEEK 03 2020  5629222  46.486563     116.779122         59309.285215   \n",
              "3  WEEK 04 2020  4930725  43.633690     181.541477         64631.663915   \n",
              "4  WEEK 05 2020  5472642  44.842917     280.730328         75657.475358   \n",
              "\n",
              "   PERMKT_E2_type6_net  PERMKT_E2_type7_net  PERMKT_E2_type8_net  \\\n",
              "0         50356.662161          1081.255369                  0.0   \n",
              "1        145306.444143          2824.603088                  0.0   \n",
              "2        298473.454078          4906.784985                  0.0   \n",
              "3        367738.687776          6456.155206                  0.0   \n",
              "4        464509.597976          8166.526828                  0.0   \n",
              "\n",
              "   PERMKT_E2_type9_net  OM_E1_platformsb1_imp  OM_E1_platformsb2_imp  \\\n",
              "0                  0.0           0.000000e+00             228.862749   \n",
              "1                  0.0           2.386486e+06             332.215448   \n",
              "2                  0.0           3.074918e+06             505.991712   \n",
              "3                  0.0           5.610383e+06             447.758141   \n",
              "4                  0.0           1.232844e+07             500.420096   \n",
              "\n",
              "   OM_E1_platformsb3_imp  TV_grp  TVFREE_grp  TVSPN_grp  \n",
              "0                    0.0     0.0    0.000000        0.0  \n",
              "1                    0.0     0.0    0.000000        0.0  \n",
              "2                    0.0     0.0    0.022776        0.0  \n",
              "3                    0.0     0.0    0.007507        0.0  \n",
              "4                    0.0     0.0    0.016011        0.0  "
            ],
            "text/html": [
              "\n",
              "  <div id=\"df-4108c21a-a4e5-4b1e-bfd6-a0d664a03583\">\n",
              "    <div class=\"colab-df-container\">\n",
              "      <div>\n",
              "<style scoped>\n",
              "    .dataframe tbody tr th:only-of-type {\n",
              "        vertical-align: middle;\n",
              "    }\n",
              "\n",
              "    .dataframe tbody tr th {\n",
              "        vertical-align: top;\n",
              "    }\n",
              "\n",
              "    .dataframe thead th {\n",
              "        text-align: right;\n",
              "    }\n",
              "</style>\n",
              "<table border=\"1\" class=\"dataframe\">\n",
              "  <thead>\n",
              "    <tr style=\"text-align: right;\">\n",
              "      <th></th>\n",
              "      <th>Week</th>\n",
              "      <th>dv</th>\n",
              "      <th>BRAND</th>\n",
              "      <th>GRI_extfactor</th>\n",
              "      <th>PERMKT_E2_type4_net</th>\n",
              "      <th>PERMKT_E2_type6_net</th>\n",
              "      <th>PERMKT_E2_type7_net</th>\n",
              "      <th>PERMKT_E2_type8_net</th>\n",
              "      <th>PERMKT_E2_type9_net</th>\n",
              "      <th>OM_E1_platformsb1_imp</th>\n",
              "      <th>OM_E1_platformsb2_imp</th>\n",
              "      <th>OM_E1_platformsb3_imp</th>\n",
              "      <th>TV_grp</th>\n",
              "      <th>TVFREE_grp</th>\n",
              "      <th>TVSPN_grp</th>\n",
              "    </tr>\n",
              "  </thead>\n",
              "  <tbody>\n",
              "    <tr>\n",
              "      <th>0</th>\n",
              "      <td>WEEK 01 2020</td>\n",
              "      <td>3522926</td>\n",
              "      <td>31.489651</td>\n",
              "      <td>20.402159</td>\n",
              "      <td>22021.280176</td>\n",
              "      <td>50356.662161</td>\n",
              "      <td>1081.255369</td>\n",
              "      <td>0.0</td>\n",
              "      <td>0.0</td>\n",
              "      <td>0.000000e+00</td>\n",
              "      <td>228.862749</td>\n",
              "      <td>0.0</td>\n",
              "      <td>0.0</td>\n",
              "      <td>0.000000</td>\n",
              "      <td>0.0</td>\n",
              "    </tr>\n",
              "    <tr>\n",
              "      <th>1</th>\n",
              "      <td>WEEK 02 2020</td>\n",
              "      <td>5157654</td>\n",
              "      <td>45.059849</td>\n",
              "      <td>66.846051</td>\n",
              "      <td>51384.380981</td>\n",
              "      <td>145306.444143</td>\n",
              "      <td>2824.603088</td>\n",
              "      <td>0.0</td>\n",
              "      <td>0.0</td>\n",
              "      <td>2.386486e+06</td>\n",
              "      <td>332.215448</td>\n",
              "      <td>0.0</td>\n",
              "      <td>0.0</td>\n",
              "      <td>0.000000</td>\n",
              "      <td>0.0</td>\n",
              "    </tr>\n",
              "    <tr>\n",
              "      <th>2</th>\n",
              "      <td>WEEK 03 2020</td>\n",
              "      <td>5629222</td>\n",
              "      <td>46.486563</td>\n",
              "      <td>116.779122</td>\n",
              "      <td>59309.285215</td>\n",
              "      <td>298473.454078</td>\n",
              "      <td>4906.784985</td>\n",
              "      <td>0.0</td>\n",
              "      <td>0.0</td>\n",
              "      <td>3.074918e+06</td>\n",
              "      <td>505.991712</td>\n",
              "      <td>0.0</td>\n",
              "      <td>0.0</td>\n",
              "      <td>0.022776</td>\n",
              "      <td>0.0</td>\n",
              "    </tr>\n",
              "    <tr>\n",
              "      <th>3</th>\n",
              "      <td>WEEK 04 2020</td>\n",
              "      <td>4930725</td>\n",
              "      <td>43.633690</td>\n",
              "      <td>181.541477</td>\n",
              "      <td>64631.663915</td>\n",
              "      <td>367738.687776</td>\n",
              "      <td>6456.155206</td>\n",
              "      <td>0.0</td>\n",
              "      <td>0.0</td>\n",
              "      <td>5.610383e+06</td>\n",
              "      <td>447.758141</td>\n",
              "      <td>0.0</td>\n",
              "      <td>0.0</td>\n",
              "      <td>0.007507</td>\n",
              "      <td>0.0</td>\n",
              "    </tr>\n",
              "    <tr>\n",
              "      <th>4</th>\n",
              "      <td>WEEK 05 2020</td>\n",
              "      <td>5472642</td>\n",
              "      <td>44.842917</td>\n",
              "      <td>280.730328</td>\n",
              "      <td>75657.475358</td>\n",
              "      <td>464509.597976</td>\n",
              "      <td>8166.526828</td>\n",
              "      <td>0.0</td>\n",
              "      <td>0.0</td>\n",
              "      <td>1.232844e+07</td>\n",
              "      <td>500.420096</td>\n",
              "      <td>0.0</td>\n",
              "      <td>0.0</td>\n",
              "      <td>0.016011</td>\n",
              "      <td>0.0</td>\n",
              "    </tr>\n",
              "  </tbody>\n",
              "</table>\n",
              "</div>\n",
              "      <button class=\"colab-df-convert\" onclick=\"convertToInteractive('df-4108c21a-a4e5-4b1e-bfd6-a0d664a03583')\"\n",
              "              title=\"Convert this dataframe to an interactive table.\"\n",
              "              style=\"display:none;\">\n",
              "        \n",
              "  <svg xmlns=\"http://www.w3.org/2000/svg\" height=\"24px\"viewBox=\"0 0 24 24\"\n",
              "       width=\"24px\">\n",
              "    <path d=\"M0 0h24v24H0V0z\" fill=\"none\"/>\n",
              "    <path d=\"M18.56 5.44l.94 2.06.94-2.06 2.06-.94-2.06-.94-.94-2.06-.94 2.06-2.06.94zm-11 1L8.5 8.5l.94-2.06 2.06-.94-2.06-.94L8.5 2.5l-.94 2.06-2.06.94zm10 10l.94 2.06.94-2.06 2.06-.94-2.06-.94-.94-2.06-.94 2.06-2.06.94z\"/><path d=\"M17.41 7.96l-1.37-1.37c-.4-.4-.92-.59-1.43-.59-.52 0-1.04.2-1.43.59L10.3 9.45l-7.72 7.72c-.78.78-.78 2.05 0 2.83L4 21.41c.39.39.9.59 1.41.59.51 0 1.02-.2 1.41-.59l7.78-7.78 2.81-2.81c.8-.78.8-2.07 0-2.86zM5.41 20L4 18.59l7.72-7.72 1.47 1.35L5.41 20z\"/>\n",
              "  </svg>\n",
              "      </button>\n",
              "      \n",
              "  <style>\n",
              "    .colab-df-container {\n",
              "      display:flex;\n",
              "      flex-wrap:wrap;\n",
              "      gap: 12px;\n",
              "    }\n",
              "\n",
              "    .colab-df-convert {\n",
              "      background-color: #E8F0FE;\n",
              "      border: none;\n",
              "      border-radius: 50%;\n",
              "      cursor: pointer;\n",
              "      display: none;\n",
              "      fill: #1967D2;\n",
              "      height: 32px;\n",
              "      padding: 0 0 0 0;\n",
              "      width: 32px;\n",
              "    }\n",
              "\n",
              "    .colab-df-convert:hover {\n",
              "      background-color: #E2EBFA;\n",
              "      box-shadow: 0px 1px 2px rgba(60, 64, 67, 0.3), 0px 1px 3px 1px rgba(60, 64, 67, 0.15);\n",
              "      fill: #174EA6;\n",
              "    }\n",
              "\n",
              "    [theme=dark] .colab-df-convert {\n",
              "      background-color: #3B4455;\n",
              "      fill: #D2E3FC;\n",
              "    }\n",
              "\n",
              "    [theme=dark] .colab-df-convert:hover {\n",
              "      background-color: #434B5C;\n",
              "      box-shadow: 0px 1px 3px 1px rgba(0, 0, 0, 0.15);\n",
              "      filter: drop-shadow(0px 1px 2px rgba(0, 0, 0, 0.3));\n",
              "      fill: #FFFFFF;\n",
              "    }\n",
              "  </style>\n",
              "\n",
              "      <script>\n",
              "        const buttonEl =\n",
              "          document.querySelector('#df-4108c21a-a4e5-4b1e-bfd6-a0d664a03583 button.colab-df-convert');\n",
              "        buttonEl.style.display =\n",
              "          google.colab.kernel.accessAllowed ? 'block' : 'none';\n",
              "\n",
              "        async function convertToInteractive(key) {\n",
              "          const element = document.querySelector('#df-4108c21a-a4e5-4b1e-bfd6-a0d664a03583');\n",
              "          const dataTable =\n",
              "            await google.colab.kernel.invokeFunction('convertToInteractive',\n",
              "                                                     [key], {});\n",
              "          if (!dataTable) return;\n",
              "\n",
              "          const docLinkHtml = 'Like what you see? Visit the ' +\n",
              "            '<a target=\"_blank\" href=https://colab.research.google.com/notebooks/data_table.ipynb>data table notebook</a>'\n",
              "            + ' to learn more about interactive tables.';\n",
              "          element.innerHTML = '';\n",
              "          dataTable['output_type'] = 'display_data';\n",
              "          await google.colab.output.renderOutput(dataTable, element);\n",
              "          const docLink = document.createElement('div');\n",
              "          docLink.innerHTML = docLinkHtml;\n",
              "          element.appendChild(docLink);\n",
              "        }\n",
              "      </script>\n",
              "    </div>\n",
              "  </div>\n",
              "  "
            ]
          },
          "metadata": {},
          "execution_count": 7
        }
      ]
    },
    {
      "cell_type": "code",
      "source": [
        "df.columns"
      ],
      "metadata": {
        "colab": {
          "base_uri": "https://localhost:8080/"
        },
        "id": "AWXHQDWZUsXr",
        "outputId": "6f741247-ce4d-4801-cf5d-7364c7e37b57"
      },
      "execution_count": 34,
      "outputs": [
        {
          "output_type": "execute_result",
          "data": {
            "text/plain": [
              "Index(['Week', 'dv', 'BRAND', 'GRI_extfactor', 'PERMKT_E2_type4_net',\n",
              "       'PERMKT_E2_type6_net', 'PERMKT_E2_type7_net', 'PERMKT_E2_type8_net',\n",
              "       'PERMKT_E2_type9_net', 'OM_E1_platformsb1_imp', 'OM_E1_platformsb2_imp',\n",
              "       'OM_E1_platformsb3_imp', 'TV_grp', 'TVFREE_grp', 'TVSPN_grp'],\n",
              "      dtype='object')"
            ]
          },
          "metadata": {},
          "execution_count": 34
        }
      ]
    },
    {
      "cell_type": "code",
      "source": [],
      "metadata": {
        "id": "IEhjOxYhY5MI"
      },
      "execution_count": null,
      "outputs": []
    },
    {
      "cell_type": "code",
      "source": [
        "x = df.drop([\"Week\",'dv',\"GRI_extfactor\",\"OM_E1_platformsb1_imp\",\"OM_E1_platformsb2_imp\",\"TV_grp\",\"TVSPN_grp\"],axis=1)\n",
        "y = df[['dv']]"
      ],
      "metadata": {
        "id": "vj3l9Zl4RumZ"
      },
      "execution_count": 35,
      "outputs": []
    },
    {
      "cell_type": "code",
      "source": [
        "x.shape,y.shape"
      ],
      "metadata": {
        "colab": {
          "base_uri": "https://localhost:8080/"
        },
        "id": "EFTVW1q4SG1-",
        "outputId": "780f0a58-ab93-4a46-85de-915d86d30a4c"
      },
      "execution_count": 36,
      "outputs": [
        {
          "output_type": "execute_result",
          "data": {
            "text/plain": [
              "((105, 8), (105, 1))"
            ]
          },
          "metadata": {},
          "execution_count": 36
        }
      ]
    },
    {
      "cell_type": "code",
      "source": [
        "X_with_constant = sm.add_constant(x)\n",
        "model = sm.OLS(y,x)"
      ],
      "metadata": {
        "colab": {
          "base_uri": "https://localhost:8080/"
        },
        "id": "sr2KjUYeRf16",
        "outputId": "f1e48029-67bb-4ee6-86a4-143ee95edefc"
      },
      "execution_count": 37,
      "outputs": [
        {
          "output_type": "stream",
          "name": "stderr",
          "text": [
            "/usr/local/lib/python3.7/dist-packages/statsmodels/tsa/tsatools.py:142: FutureWarning: In a future version of pandas all arguments of concat except for the argument 'objs' will be keyword-only\n",
            "  x = pd.concat(x[::order], 1)\n"
          ]
        }
      ]
    },
    {
      "cell_type": "code",
      "source": [
        "results = model.fit()\n",
        "results.params"
      ],
      "metadata": {
        "colab": {
          "base_uri": "https://localhost:8080/"
        },
        "id": "IFcdP43rQmPh",
        "outputId": "09767842-c030-4f72-b043-5cafa6ebec81"
      },
      "execution_count": 38,
      "outputs": [
        {
          "output_type": "execute_result",
          "data": {
            "text/plain": [
              "BRAND                    86825.147772\n",
              "PERMKT_E2_type4_net         19.858978\n",
              "PERMKT_E2_type6_net         -0.192754\n",
              "PERMKT_E2_type7_net          0.953849\n",
              "PERMKT_E2_type8_net          0.338424\n",
              "PERMKT_E2_type9_net          0.227704\n",
              "OM_E1_platformsb3_imp       -0.000030\n",
              "TVFREE_grp                 733.374946\n",
              "dtype: float64"
            ]
          },
          "metadata": {},
          "execution_count": 38
        }
      ]
    },
    {
      "cell_type": "code",
      "source": [
        "print(results.summary())"
      ],
      "metadata": {
        "colab": {
          "base_uri": "https://localhost:8080/"
        },
        "id": "qpBYOdCIScV7",
        "outputId": "23cc8417-e696-480c-f8ae-d9e0f699ab59"
      },
      "execution_count": 39,
      "outputs": [
        {
          "output_type": "stream",
          "name": "stdout",
          "text": [
            "                                 OLS Regression Results                                \n",
            "=======================================================================================\n",
            "Dep. Variable:                     dv   R-squared (uncentered):                   0.982\n",
            "Model:                            OLS   Adj. R-squared (uncentered):              0.980\n",
            "Method:                 Least Squares   F-statistic:                              654.7\n",
            "Date:                Fri, 26 Aug 2022   Prob (F-statistic):                    7.96e-81\n",
            "Time:                        08:47:52   Log-Likelihood:                         -1704.5\n",
            "No. Observations:                 105   AIC:                                      3425.\n",
            "Df Residuals:                      97   BIC:                                      3446.\n",
            "Df Model:                           8                                                  \n",
            "Covariance Type:            nonrobust                                                  \n",
            "=========================================================================================\n",
            "                            coef    std err          t      P>|t|      [0.025      0.975]\n",
            "-----------------------------------------------------------------------------------------\n",
            "BRAND                  8.683e+04   1.13e+04      7.652      0.000    6.43e+04    1.09e+05\n",
            "PERMKT_E2_type4_net      19.8590      7.026      2.827      0.006       5.914      33.804\n",
            "PERMKT_E2_type6_net      -0.1928      0.436     -0.442      0.659      -1.058       0.673\n",
            "PERMKT_E2_type7_net       0.9538      0.196      4.864      0.000       0.565       1.343\n",
            "PERMKT_E2_type8_net       0.3384      0.350      0.968      0.335      -0.355       1.032\n",
            "PERMKT_E2_type9_net       0.2277      0.271      0.841      0.402      -0.310       0.765\n",
            "OM_E1_platformsb3_imp -2.984e-05      0.002     -0.015      0.988      -0.004       0.004\n",
            "TVFREE_grp              733.3749    261.778      2.802      0.006     213.818    1252.932\n",
            "==============================================================================\n",
            "Omnibus:                       41.861   Durbin-Watson:                   0.815\n",
            "Prob(Omnibus):                  0.000   Jarque-Bera (JB):               95.025\n",
            "Skew:                          -1.551   Prob(JB):                     2.32e-21\n",
            "Kurtosis:                       6.478   Cond. No.                     9.53e+06\n",
            "==============================================================================\n",
            "\n",
            "Notes:\n",
            "[1] R² is computed without centering (uncentered) since the model does not contain a constant.\n",
            "[2] Standard Errors assume that the covariance matrix of the errors is correctly specified.\n",
            "[3] The condition number is large, 9.53e+06. This might indicate that there are\n",
            "strong multicollinearity or other numerical problems.\n"
          ]
        }
      ]
    },
    {
      "cell_type": "code",
      "source": [
        "dfm = pd.read_excel(\"Testing_data_manip.xlsx\",sheet_name=\"Manipulated\")\n",
        "dfm = dfm[dfm.columns[:-1]]"
      ],
      "metadata": {
        "id": "6zeO7Th4T_El"
      },
      "execution_count": 54,
      "outputs": []
    },
    {
      "cell_type": "code",
      "source": [
        "xm = dfm.drop([\"Week\",'dv',\"GRI_extfactor\",\"OM_E1_platformsb1_imp\",\"OM_E1_platformsb2_imp\",\"TV_grp\",\"TVSPN_grp\",\"PERMKT_E2_type6_net\"],axis=1)\n",
        "\n",
        "ym = dfm[['dv']]\n",
        "\n",
        "xm.shape,ym.shape\n",
        "\n",
        "Xm_with_constant = sm.add_constant(xm)\n",
        "modelm = sm.OLS(ym,xm)\n",
        "\n"
      ],
      "metadata": {
        "id": "eieRMyDVZKkw"
      },
      "execution_count": 72,
      "outputs": []
    },
    {
      "cell_type": "code",
      "source": [
        "resultsm = modelm.fit()\n",
        "resultsm.params"
      ],
      "metadata": {
        "colab": {
          "base_uri": "https://localhost:8080/"
        },
        "id": "iofIli08g9Uy",
        "outputId": "afe3eaae-1a09-4d93-f827-8e11d2e2ae3b"
      },
      "execution_count": 73,
      "outputs": [
        {
          "output_type": "execute_result",
          "data": {
            "text/plain": [
              "BRAND                    106890.640621\n",
              "PERMKT_E2_type4_net           4.522923\n",
              "PERMKT_E2_type7_net           0.710966\n",
              "PERMKT_E2_type8_net           0.944793\n",
              "PERMKT_E2_type9_net           0.388055\n",
              "OM_E1_platformsb3_imp         0.002137\n",
              "TVFREE_grp                  821.610556\n",
              "dtype: float64"
            ]
          },
          "metadata": {},
          "execution_count": 73
        }
      ]
    },
    {
      "cell_type": "code",
      "source": [
        "print(resultsm.summary())\n"
      ],
      "metadata": {
        "colab": {
          "base_uri": "https://localhost:8080/"
        },
        "id": "dUxjZFoQgsrF",
        "outputId": "315d1fb9-0e93-458d-99a7-488ff930e841"
      },
      "execution_count": 74,
      "outputs": [
        {
          "output_type": "stream",
          "name": "stdout",
          "text": [
            "                                 OLS Regression Results                                \n",
            "=======================================================================================\n",
            "Dep. Variable:                     dv   R-squared (uncentered):                   0.981\n",
            "Model:                            OLS   Adj. R-squared (uncentered):              0.980\n",
            "Method:                 Least Squares   F-statistic:                              718.1\n",
            "Date:                Fri, 26 Aug 2022   Prob (F-statistic):                    3.29e-81\n",
            "Time:                        09:39:18   Log-Likelihood:                         -1707.1\n",
            "No. Observations:                 105   AIC:                                      3428.\n",
            "Df Residuals:                      98   BIC:                                      3447.\n",
            "Df Model:                           7                                                  \n",
            "Covariance Type:            nonrobust                                                  \n",
            "=========================================================================================\n",
            "                            coef    std err          t      P>|t|      [0.025      0.975]\n",
            "-----------------------------------------------------------------------------------------\n",
            "BRAND                  1.069e+05   7623.751     14.021      0.000    9.18e+04    1.22e+05\n",
            "PERMKT_E2_type4_net       4.5229      1.400      3.231      0.002       1.745       7.301\n",
            "PERMKT_E2_type7_net       0.7110      0.162      4.394      0.000       0.390       1.032\n",
            "PERMKT_E2_type8_net       0.9448      0.236      4.009      0.000       0.477       1.412\n",
            "PERMKT_E2_type9_net       0.3881      0.276      1.405      0.163      -0.160       0.936\n",
            "OM_E1_platformsb3_imp     0.0021      0.002      1.170      0.245      -0.001       0.006\n",
            "TVFREE_grp              821.6106    264.783      3.103      0.003     296.157    1347.064\n",
            "==============================================================================\n",
            "Omnibus:                       41.910   Durbin-Watson:                   0.870\n",
            "Prob(Omnibus):                  0.000   Jarque-Bera (JB):              105.530\n",
            "Skew:                          -1.488   Prob(JB):                     1.21e-23\n",
            "Kurtosis:                       6.907   Cond. No.                     6.28e+06\n",
            "==============================================================================\n",
            "\n",
            "Notes:\n",
            "[1] R² is computed without centering (uncentered) since the model does not contain a constant.\n",
            "[2] Standard Errors assume that the covariance matrix of the errors is correctly specified.\n",
            "[3] The condition number is large, 6.28e+06. This might indicate that there are\n",
            "strong multicollinearity or other numerical problems.\n"
          ]
        }
      ]
    },
    {
      "cell_type": "code",
      "source": [],
      "metadata": {
        "colab": {
          "base_uri": "https://localhost:8080/"
        },
        "id": "Krvgu0Lmdj4k",
        "outputId": "6491e1ed-27fc-436a-8fd2-76f592185f83"
      },
      "execution_count": 61,
      "outputs": [
        {
          "output_type": "execute_result",
          "data": {
            "text/plain": [
              "((105, 7), (105, 1))"
            ]
          },
          "metadata": {},
          "execution_count": 61
        }
      ]
    },
    {
      "cell_type": "code",
      "source": [],
      "metadata": {
        "colab": {
          "base_uri": "https://localhost:8080/"
        },
        "id": "OuOIXFRNdHqf",
        "outputId": "1a7a9590-95a2-44a9-e3cd-bd6d060af108"
      },
      "execution_count": 62,
      "outputs": [
        {
          "output_type": "stream",
          "name": "stderr",
          "text": [
            "/usr/local/lib/python3.7/dist-packages/statsmodels/tsa/tsatools.py:142: FutureWarning: In a future version of pandas all arguments of concat except for the argument 'objs' will be keyword-only\n",
            "  x = pd.concat(x[::order], 1)\n"
          ]
        }
      ]
    },
    {
      "cell_type": "code",
      "source": [
        "\n"
      ],
      "metadata": {
        "colab": {
          "base_uri": "https://localhost:8080/"
        },
        "id": "2FtkVDFGdAX6",
        "outputId": "484c1b5e-64b7-46b8-d8b4-50caee37c844"
      },
      "execution_count": 63,
      "outputs": [
        {
          "output_type": "execute_result",
          "data": {
            "text/plain": [
              "BRAND                    106890.640621\n",
              "PERMKT_E2_type4_net           4.522923\n",
              "PERMKT_E2_type7_net           0.710966\n",
              "PERMKT_E2_type8_net           0.944793\n",
              "PERMKT_E2_type9_net           0.388055\n",
              "OM_E1_platformsb3_imp         0.002137\n",
              "TVFREE_grp                  821.610556\n",
              "dtype: float64"
            ]
          },
          "metadata": {},
          "execution_count": 63
        }
      ]
    },
    {
      "cell_type": "code",
      "source": [],
      "metadata": {
        "colab": {
          "base_uri": "https://localhost:8080/"
        },
        "id": "LKwUkn1OBbFZ",
        "outputId": "af4ebc7a-916a-407b-e4f9-0c41145d82cd"
      },
      "execution_count": 64,
      "outputs": [
        {
          "output_type": "stream",
          "name": "stdout",
          "text": [
            "                                 OLS Regression Results                                \n",
            "=======================================================================================\n",
            "Dep. Variable:                     dv   R-squared (uncentered):                   0.981\n",
            "Model:                            OLS   Adj. R-squared (uncentered):              0.980\n",
            "Method:                 Least Squares   F-statistic:                              718.1\n",
            "Date:                Fri, 26 Aug 2022   Prob (F-statistic):                    3.29e-81\n",
            "Time:                        09:35:45   Log-Likelihood:                         -1707.1\n",
            "No. Observations:                 105   AIC:                                      3428.\n",
            "Df Residuals:                      98   BIC:                                      3447.\n",
            "Df Model:                           7                                                  \n",
            "Covariance Type:            nonrobust                                                  \n",
            "=========================================================================================\n",
            "                            coef    std err          t      P>|t|      [0.025      0.975]\n",
            "-----------------------------------------------------------------------------------------\n",
            "BRAND                  1.069e+05   7623.751     14.021      0.000    9.18e+04    1.22e+05\n",
            "PERMKT_E2_type4_net       4.5229      1.400      3.231      0.002       1.745       7.301\n",
            "PERMKT_E2_type7_net       0.7110      0.162      4.394      0.000       0.390       1.032\n",
            "PERMKT_E2_type8_net       0.9448      0.236      4.009      0.000       0.477       1.412\n",
            "PERMKT_E2_type9_net       0.3881      0.276      1.405      0.163      -0.160       0.936\n",
            "OM_E1_platformsb3_imp     0.0021      0.002      1.170      0.245      -0.001       0.006\n",
            "TVFREE_grp              821.6106    264.783      3.103      0.003     296.157    1347.064\n",
            "==============================================================================\n",
            "Omnibus:                       41.910   Durbin-Watson:                   0.870\n",
            "Prob(Omnibus):                  0.000   Jarque-Bera (JB):              105.530\n",
            "Skew:                          -1.488   Prob(JB):                     1.21e-23\n",
            "Kurtosis:                       6.907   Cond. No.                     6.28e+06\n",
            "==============================================================================\n",
            "\n",
            "Notes:\n",
            "[1] R² is computed without centering (uncentered) since the model does not contain a constant.\n",
            "[2] Standard Errors assume that the covariance matrix of the errors is correctly specified.\n",
            "[3] The condition number is large, 6.28e+06. This might indicate that there are\n",
            "strong multicollinearity or other numerical problems.\n"
          ]
        }
      ]
    },
    {
      "cell_type": "code",
      "source": [],
      "metadata": {
        "id": "Y2-LEEjaeHHi"
      },
      "execution_count": null,
      "outputs": []
    }
  ]
}